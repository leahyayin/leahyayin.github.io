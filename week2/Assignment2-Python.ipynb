{
 "cells": [
  {
   "cell_type": "markdown",
   "id": "aa768419",
   "metadata": {},
   "source": [
    "# Assignment 2\n",
    "2023.07.10"
   ]
  },
  {
   "cell_type": "markdown",
   "id": "7508d07d",
   "metadata": {},
   "source": [
    "## Task1"
   ]
  },
  {
   "cell_type": "code",
   "execution_count": 2,
   "id": "80f7ea85",
   "metadata": {},
   "outputs": [
    {
     "name": "stdout",
     "output_type": "stream",
     "text": [
      "Bob\n",
      "Copper\n",
      "Leslie\n",
      "Vivian\n"
     ]
    }
   ],
   "source": [
    "def find_and_print(messages):\n",
    "    # Loop through each person's message\n",
    "    for person, message in messages.items():\n",
    "        # Check if the message contains keywords indicating the person is older than 17\n",
    "        if any(keyword in message for keyword in [\"18\", \"legal\", \"college\", \"vote\"]):\n",
    "            print(person)\n",
    "\n",
    "\n",
    "find_and_print({\n",
    "    \"Bob\": \"My name is Bob. I'm 18 years old.\",\n",
    "    \"Mary\": \"Hello, glad to meet you.\",\n",
    "    \"Copper\": \"I'm a college student. Nice to meet you.\",\n",
    "    \"Leslie\": \"I am of legal age in Taiwan.\",\n",
    "    \"Vivian\": \"I will vote for Donald Trump next week\",\n",
    "    \"Jenny\": \"Good morning.\"\n",
    "})"
   ]
  },
  {
   "cell_type": "markdown",
   "id": "0ead2e13",
   "metadata": {},
   "source": [
    "## Task2"
   ]
  },
  {
   "cell_type": "code",
   "execution_count": 23,
   "id": "40100f3f",
   "metadata": {},
   "outputs": [
    {
     "name": "stdout",
     "output_type": "stream",
     "text": [
      "9700\n"
     ]
    }
   ],
   "source": [
    "def calculate_sum_of_bonus(data):\n",
    "    \n",
    "    # Write down your bonus rules in comments\n",
    "    # Rule 1: based on the position\n",
    "    # - For Engineers, the bonus is 10% of their salary.\n",
    "    # - For CEOs with average performance, the bonus is 2% of their salary.\n",
    "    # - For Sales employees with below-average performance, the bonus is 10% of their salary.\n",
    "    # - For other roles, the bonus is 5% of their salary.\n",
    "    \n",
    "    # Rule 2: based on the performance\n",
    "    # - For above average, the bonus + 50%.\n",
    "    # - For average, no extra bonus.\n",
    "    # - For below average, the bonus -20%.\n",
    "    \n",
    "    \n",
    "    # My code here, based on my own rules\n",
    "    sum_of_bonus = 0\n",
    "    exchange_rate = 30\n",
    "\n",
    "    # Loop through each employee\n",
    "    for employee in data[\"employees\"]:\n",
    "        salary = str(employee.get(\"salary\"))\n",
    "        performance = employee.get(\"performance\")\n",
    "        role = employee.get(\"role\")\n",
    "\n",
    "        # Convert salary to TWD if it's in USD\n",
    "        if ('USD' in salary):\n",
    "            salary = int(''.join(filter(str.isdigit, salary))) * exchange_rate\n",
    "        else: \n",
    "            salary = int(''.join(filter(str.isdigit, salary)))\n",
    "\n",
    "        # Calculate bonus based on the rules\n",
    "        if role == \"Engineer\":\n",
    "            bonus = 0.1 * salary\n",
    "        elif role == \"CEO\":\n",
    "            bonus = 0.02 * salary\n",
    "        elif role == \"Sales\":\n",
    "            bonus = 0.1 * salary\n",
    "        else:\n",
    "            bonus = 0.05 * salary\n",
    "            \n",
    "        if performance == \"above average\":\n",
    "            bonus = 1.5 * bonus\n",
    "        elif performance == \"average\":\n",
    "            bonus = 1 * bonus\n",
    "        elif performance == \"below average\":\n",
    "            bonus = 0.80 * bonus\n",
    "\n",
    "        # Add the bonus to the total sum\n",
    "        sum_of_bonus += int(bonus)\n",
    "\n",
    "    # Print the sum of bonuses\n",
    "    print(sum_of_bonus)\n",
    "    \n",
    "    \n",
    "# call calculate_sum_of_bonus function\n",
    "calculate_sum_of_bonus({\n",
    "    \"employees\": [\n",
    "        {\n",
    "            \"name\": \"John\",\n",
    "            \"salary\": \"1000USD\",\n",
    "            \"performance\": \"above average\",\n",
    "            \"role\": \"Engineer\"\n",
    "        },\n",
    "        {\n",
    "            \"name\": \"Bob\",\n",
    "            \"salary\": 60000,\n",
    "            \"performance\": \"average\",\n",
    "            \"role\": \"CEO\"\n",
    "        },\n",
    "        {\n",
    "            \"name\": \"Jenny\",\n",
    "            \"salary\": \"50,000\",\n",
    "            \"performance\": \"below average\",\n",
    "            \"role\": \"Sales\"\n",
    "        }\n",
    "    ]\n",
    "})"
   ]
  },
  {
   "cell_type": "markdown",
   "id": "f62740bf",
   "metadata": {
    "vscode": {
     "languageId": "javascript"
    }
   },
   "source": [
    "## Task3"
   ]
  },
  {
   "cell_type": "code",
   "execution_count": 2,
   "id": "38f44590",
   "metadata": {},
   "outputs": [
    {
     "name": "stdout",
     "output_type": "stream",
     "text": [
      "彭⼤牆\n",
      "林花花\n",
      "沒有\n"
     ]
    }
   ],
   "source": [
    "def func(*data):\n",
    "    # Initialize a dictionary to store the count and the name\n",
    "    middle_names = {}\n",
    "    name_record = {}\n",
    "\n",
    "    for name in data:\n",
    "        # Check if the name has a middle name\n",
    "        if len(name) >= 2:\n",
    "            # Get the middle name (second word)\n",
    "            middle_name = name[1]\n",
    "            middle_names[middle_name] = middle_names.get(middle_name, 0) + 1\n",
    "            name_record[middle_name]= name\n",
    "        else: continue; \n",
    "\n",
    "\n",
    "    # Find the middle name with a count = 1\n",
    "    unique_middle_name = None\n",
    "    for n, count in middle_names.items():\n",
    "        if count == 1:\n",
    "            unique_middle_name = name_record.get(n)\n",
    "\n",
    "    print(unique_middle_name or \"沒有\")\n",
    "\n",
    "func(\"彭⼤牆\", \"王明雅\", \"吳明\")  # print 彭⼤牆\n",
    "func(\"郭靜雅\", \"王立強\", \"林靜宜\", \"郭立恆\", \"林花花\")  # print 林花花\n",
    "func(\"郭宣雅\", \"林靜宜\", \"郭宣恆\", \"林靜花\")  # print 沒有\n"
   ]
  },
  {
   "cell_type": "markdown",
   "id": "bb24721d",
   "metadata": {},
   "source": [
    "## Task4"
   ]
  },
  {
   "cell_type": "code",
   "execution_count": 29,
   "id": "c259b572",
   "metadata": {},
   "outputs": [
    {
     "name": "stdout",
     "output_type": "stream",
     "text": [
      "4\n",
      "10\n",
      "15\n"
     ]
    }
   ],
   "source": [
    "# There is a number sequence: 0, 4, 3, 7, 6, 10, 9, 13, 12, 16, 15, …\n",
    "def get_number(index):\n",
    "    # Calculate the nth term based on the pattern\n",
    "    if index % 2 == 0:\n",
    "        nth_term = (index/2) * 3\n",
    "    else:\n",
    "        nth_term = int(index/2) * 3 + 4\n",
    "\n",
    "    print(int(nth_term))\n",
    "\n",
    "get_number(1)   # print 4\n",
    "get_number(5)   # print 10\n",
    "get_number(10)  # print 15"
   ]
  },
  {
   "cell_type": "markdown",
   "id": "31d13e93",
   "metadata": {},
   "source": [
    "## Task5"
   ]
  },
  {
   "cell_type": "code",
   "execution_count": 51,
   "id": "12cf02cf",
   "metadata": {},
   "outputs": [
    {
     "name": "stdout",
     "output_type": "stream",
     "text": [
      "4\n",
      "-1\n",
      "2\n"
     ]
    }
   ],
   "source": [
    "def find_index_of_car(seats, status, number):\n",
    "    car_index = -1\n",
    "    for i in range(len(status)):\n",
    "        # filter the available car\n",
    "        if status[i] == 1 and number <= seats[i]:\n",
    "            # update the most fitted car (based on min seats)\n",
    "            if car_index == -1 or seats[i] < seats[car_index]:\n",
    "                car_index = i  \n",
    "            \n",
    "    return car_index\n",
    "                \n",
    "            \n",
    "\n",
    "print(find_index_of_car([3, 1, 5, 4, 2], [0, 1, 0, 1, 1], 2))   # print 4\n",
    "print(find_index_of_car([1, 0, 5, 1, 3], [0, 1, 0, 1, 1], 4))   # print -1\n",
    "print(find_index_of_car([4, 6, 5, 8], [0, 1, 1, 1], 4))         # print 2"
   ]
  }
 ],
 "metadata": {
  "kernelspec": {
   "display_name": "Python 3 (ipykernel)",
   "language": "python",
   "name": "python3"
  },
  "language_info": {
   "codemirror_mode": {
    "name": "ipython",
    "version": 3
   },
   "file_extension": ".py",
   "mimetype": "text/x-python",
   "name": "python",
   "nbconvert_exporter": "python",
   "pygments_lexer": "ipython3",
   "version": "3.6.8"
  }
 },
 "nbformat": 4,
 "nbformat_minor": 5
}
